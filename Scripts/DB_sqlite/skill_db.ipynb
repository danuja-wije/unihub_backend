{
 "cells": [
  {
   "cell_type": "code",
   "execution_count": 1,
   "metadata": {},
   "outputs": [],
   "source": [
    "import sqlite3\n"
   ]
  },
  {
   "cell_type": "code",
   "execution_count": 2,
   "metadata": {},
   "outputs": [
    {
     "name": "stdout",
     "output_type": "stream",
     "text": [
      "[('Project 1', 'Java', 4), ('Project 1', 'Python', 3), ('Project 1', 'Flask', 5)]\n"
     ]
    }
   ],
   "source": [
    "\n",
    "def create_table():\n",
    "    conn = sqlite3.connect('skills.db')\n",
    "    c = conn.cursor()\n",
    "    c.execute('''CREATE TABLE skills (project_name TEXT, skill TEXT, value INTEGER)''')\n",
    "    conn.commit()\n",
    "    conn.close()\n",
    "\n",
    "def insert_data(project_name, skill, value):\n",
    "    conn = sqlite3.connect('skills.db')\n",
    "    c = conn.cursor()\n",
    "    c.execute(\"INSERT INTO skills VALUES (?,?,?)\", (project_name, skill, value))\n",
    "    conn.commit()\n",
    "    conn.close()\n",
    "\n",
    "def update_data(project_name, skill, value):\n",
    "    conn = sqlite3.connect('skills.db')\n",
    "    c = conn.cursor()\n",
    "    c.execute(\"UPDATE skills SET value=? WHERE project_name=? AND skill=?\", (value, project_name, skill))\n",
    "    conn.commit()\n",
    "    conn.close()\n",
    "\n",
    "def select_data(project_name):\n",
    "    conn = sqlite3.connect('skills.db')\n",
    "    c = conn.cursor()\n",
    "    c.execute(\"SELECT * FROM skills WHERE project_name=?\", (project_name,))\n",
    "    data = c.fetchall()\n",
    "    conn.close()\n",
    "    return data\n",
    "\n",
    "create_table()\n",
    "insert_data(\"Project 1\", \"Java\", 2)\n",
    "insert_data(\"Project 1\", \"Python\", 3)\n",
    "insert_data(\"Project 1\", \"Flask\", 5)\n",
    "insert_data(\"Project 2\", \"Java\", 1)\n",
    "insert_data(\"Project 2\", \"C++\", 2)\n",
    "\n",
    "update_data(\"Project 1\", \"Java\", 4)\n",
    "print(select_data(\"Project 1\"))"
   ]
  },
  {
   "cell_type": "code",
   "execution_count": null,
   "metadata": {},
   "outputs": [],
   "source": []
  }
 ],
 "metadata": {
  "kernelspec": {
   "display_name": "Python 3",
   "language": "python",
   "name": "python3"
  },
  "language_info": {
   "codemirror_mode": {
    "name": "ipython",
    "version": 3
   },
   "file_extension": ".py",
   "mimetype": "text/x-python",
   "name": "python",
   "nbconvert_exporter": "python",
   "pygments_lexer": "ipython3",
   "version": "3.9.0"
  },
  "orig_nbformat": 4,
  "vscode": {
   "interpreter": {
    "hash": "8f5d3678cd8a9c957a4a5fed962b69cd14f841fc215e1e3af9b60287d5ff4da9"
   }
  }
 },
 "nbformat": 4,
 "nbformat_minor": 2
}
